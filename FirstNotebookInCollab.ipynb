{
  "nbformat": 4,
  "nbformat_minor": 0,
  "metadata": {
    "colab": {
      "name": "FirstNotebookInCollab.ipynb",
      "provenance": [],
      "collapsed_sections": [],
      "authorship_tag": "ABX9TyO3H4VcECM0tK3C5ssFZQCF",
      "include_colab_link": true
    },
    "kernelspec": {
      "name": "python3",
      "display_name": "Python 3"
    }
  },
  "cells": [
    {
      "cell_type": "markdown",
      "metadata": {
        "id": "view-in-github",
        "colab_type": "text"
      },
      "source": [
        "<a href=\"https://colab.research.google.com/github/mattemoore/DeepLearning/blob/master/FirstNotebookInCollab.ipynb\" target=\"_parent\"><img src=\"https://colab.research.google.com/assets/colab-badge.svg\" alt=\"Open In Colab\"/></a>"
      ]
    },
    {
      "cell_type": "markdown",
      "metadata": {
        "id": "Y3wqFCi0ZUNd",
        "colab_type": "text"
      },
      "source": [
        "# Load MNIST Dataset"
      ]
    },
    {
      "cell_type": "code",
      "metadata": {
        "id": "hSM4kdXNOrVg",
        "colab_type": "code",
        "colab": {}
      },
      "source": [
        "import numpy as np\n",
        "import pandas as pd\n",
        "\n",
        "test_df = pd.read_csv('./sample_data/mnist_test.csv', header=None)\n",
        "y_test = test_df.iloc[:, 0].to_numpy()\n",
        "x_test = test_df.iloc[:, 1:].to_numpy()\n",
        "assert(y_test[0] == 7)\n",
        "assert(x_test.shape == (10000,784))\n",
        "\n",
        "train_df = pd.read_csv('./sample_data/mnist_train_small.csv', header=None)\n",
        "y_train = train_df.iloc[:, 0].to_numpy()\n",
        "y_test = train_df.iloc[:, 1:].to_numpy()\n",
        "assert(y_train[0] == 6)\n",
        "assert(y_test.shape == (20000,784))"
      ],
      "execution_count": 0,
      "outputs": []
    }
  ]
}